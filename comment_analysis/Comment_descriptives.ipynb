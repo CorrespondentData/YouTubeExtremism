{
 "cells": [
  {
   "cell_type": "code",
   "execution_count": 1,
   "metadata": {},
   "outputs": [],
   "source": [
    "import comment_lib\n",
    "import seaborn as sns; sns.set()\n",
    "import pandas as pd\n",
    "import itertools\n",
    "import csv\n",
    "import random\n",
    "\n",
    "%matplotlib inline\n",
    "\n",
    "comments_file = 'comments_nl_right.csv'\n",
    "videos_file = 'videos_nl_right.csv'\n",
    "channel_file = 'channels_nl_right.csv'"
   ]
  },
  {
   "cell_type": "markdown",
   "metadata": {},
   "source": [
    "## Network edges for gephi"
   ]
  },
  {
   "cell_type": "code",
   "execution_count": 3,
   "metadata": {},
   "outputs": [],
   "source": [
    "comment_lib.generate_network_comments_aggregated(data,'edges_comments_videonodes_agg.csv','video', minimum_connections = 3)"
   ]
  },
  {
   "cell_type": "markdown",
   "metadata": {},
   "source": [
    "## Comment descriptives\n",
    "\n",
    "This notebook serves to supply descriptives for the comments data. Common manipulation methods are drawn from the comment_lib.py file supplied on GitHub."
   ]
  },
  {
   "cell_type": "code",
   "execution_count": 2,
   "metadata": {},
   "outputs": [],
   "source": [
    "with open(comments_file, 'r', encoding = 'utf8') as f:\n",
    "    data = comment_lib.read_comments(f)\n",
    "\n",
    "data = comment_lib.add_video_metadata(data, videos_file, channel_file)"
   ]
  },
  {
   "cell_type": "markdown",
   "metadata": {},
   "source": [
    "## Number of commenters\n",
    "\n",
    "1. Are commenters serial commenters or do they stick to their own thing?"
   ]
  },
  {
   "cell_type": "code",
   "execution_count": null,
   "metadata": {},
   "outputs": [],
   "source": [
    "commenter_groups = data.groupby('author_channel_id')"
   ]
  },
  {
   "cell_type": "markdown",
   "metadata": {},
   "source": [
    "#### GINI plot commenters\n",
    "\n",
    "Comment 'ownership', inequality?"
   ]
  },
  {
   "cell_type": "code",
   "execution_count": null,
   "metadata": {},
   "outputs": [],
   "source": [
    "num_comments = pd.DataFrame(commenter_groups.size().sort_values(ascending = True), columns = ['count'])\n",
    "num_comments['Cumulative percentage of comments'] = 100*num_comments['count'].cumsum()/max(num_comments['count'].cumsum())\n",
    "num_comments['Commenter percentile'] = num_comments.reset_index().index/max(num_comments.reset_index().index)\n",
    "\n",
    "sns.lineplot(x=num_comments['Commenter percentile'],y=num_comments['Cumulative percentage of comments'])\n",
    "\n",
    "print('20% van de commenters plaatst 70% van de comments en de top-10% plaatst 60% van de comments')\n",
    "del num_comments"
   ]
  },
  {
   "cell_type": "markdown",
   "metadata": {},
   "source": [
    "#### Number of channels per commenter"
   ]
  },
  {
   "cell_type": "code",
   "execution_count": null,
   "metadata": {},
   "outputs": [],
   "source": [
    "commenter_groups['channel_title'].nunique().value_counts()"
   ]
  },
  {
   "cell_type": "markdown",
   "metadata": {},
   "source": [
    "## Comment length\n",
    "\n",
    "Variabelen:\n",
    "- comment_length_chars : Aantal characters (simpel: len)\n",
    "- comment_length_words : Aantal woorden, ruw bepaald met splitten op spatie."
   ]
  },
  {
   "cell_type": "code",
   "execution_count": null,
   "metadata": {},
   "outputs": [],
   "source": [
    "data['comment_length_chars'] = data['comment_text'].apply(len)\n",
    "data['comment_length_words'] = data['comment_text'].apply(lambda x: len(x.split()))"
   ]
  },
  {
   "cell_type": "code",
   "execution_count": null,
   "metadata": {},
   "outputs": [],
   "source": [
    "data[['comment_length_words','comment_length_chars']].describe()"
   ]
  },
  {
   "cell_type": "code",
   "execution_count": null,
   "metadata": {},
   "outputs": [],
   "source": [
    "#Plot variabele voor de lengte\n",
    "# - Cutoff kan gekozen worden om de plot leesbaar te maken. Kies cutoff erg hoog (e.g. 10**6) om te zien hoe het zonder is\n",
    "\n",
    "var = 'comment_length_words'\n",
    "plot_cutoff = 250\n",
    "bin_count = 100\n",
    "\n",
    "sns.distplot(data[var][data[var] < plot_cutoff], bins = bin_count)"
   ]
  },
  {
   "cell_type": "markdown",
   "metadata": {},
   "source": [
    "Het aantal woorden is relatief klein (mediaan 11) met grote uitschieters."
   ]
  },
  {
   "cell_type": "code",
   "execution_count": null,
   "metadata": {},
   "outputs": [],
   "source": [
    "chars = data['comment_length_chars']\n",
    "print('{:0.2%} van de comments past ook binnen een tweet.'.format(len(chars[chars <= 280])/len(chars)))\n",
    "del chars"
   ]
  },
  {
   "cell_type": "code",
   "execution_count": null,
   "metadata": {
    "scrolled": true
   },
   "outputs": [],
   "source": [
    "print('Om te kijken naar aantal referenties naar andere commenters/gebruikers:\\n')\n",
    "\n",
    "comments = data['comment_text']\n",
    "print('{:0.2%} van de comments bevat een \"@\"'.format(len(comments[comments.str.contains('@')])/len(comments)))\n",
    "del comments\n",
    "print('\\n\"@\" betekent doorgaans een referentie naar een andere gebruiker (zie volgende cel voor test)')"
   ]
  },
  {
   "cell_type": "code",
   "execution_count": null,
   "metadata": {},
   "outputs": [],
   "source": [
    "comments = data['comment_text']\n",
    "comments = comments[comments.str.contains(\"@\")]\n",
    "\n",
    "for comment in random.sample(list(comments),10):\n",
    "    print(comment)\n",
    "    print('==================')\n",
    "del comments"
   ]
  },
  {
   "cell_type": "code",
   "execution_count": null,
   "metadata": {},
   "outputs": [],
   "source": [
    "data.comment_id.apply(lambda x: x[0]).value_counts()"
   ]
  },
  {
   "cell_type": "code",
   "execution_count": null,
   "metadata": {},
   "outputs": [],
   "source": [
    "data[data['video_id'] == '__Ou7gS9F38']"
   ]
  }
 ],
 "metadata": {
  "kernelspec": {
   "display_name": "Python [default]",
   "language": "python",
   "name": "python3"
  },
  "language_info": {
   "codemirror_mode": {
    "name": "ipython",
    "version": 3
   },
   "file_extension": ".py",
   "mimetype": "text/x-python",
   "name": "python",
   "nbconvert_exporter": "python",
   "pygments_lexer": "ipython3",
   "version": "3.6.5"
  }
 },
 "nbformat": 4,
 "nbformat_minor": 2
}
