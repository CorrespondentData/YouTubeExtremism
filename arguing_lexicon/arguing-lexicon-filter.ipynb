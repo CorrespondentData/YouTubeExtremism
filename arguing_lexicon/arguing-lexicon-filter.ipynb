{
 "cells": [
  {
   "cell_type": "code",
   "execution_count": 1,
   "metadata": {},
   "outputs": [],
   "source": [
    "import pickle\n",
    "from collections import namedtuple\n",
    "\n",
    "import pandas as pd\n",
    "from arguing_lexicon import ArguingLexiconParser\n",
    "from tqdm import tqdm_notebook as tqdm\n",
    "\n",
    "input_data_csv = \"data/captions_metadata.csv\""
   ]
  },
  {
   "cell_type": "code",
   "execution_count": 2,
   "metadata": {},
   "outputs": [],
   "source": [
    "# Lazy data reader into DataFrame\n",
    "transcripts_reader = pd.read_csv(\"data/captions_metadata.csv\", chunksize=10)\n",
    "\n",
    "# Dummy class for convenience and speed\n",
    "Doc = namedtuple(\"Doc\", [\"text\"])\n",
    "\n",
    "# Util function to write lazy chunks back to disk\n",
    "output_columns = [\"id\", \"content\", \"date\", \"title\", \"unknown\", \"channel\", \"fragments\", \"argument_fragments\",\n",
    "                  \"argument_labels\", \"argument_content\"]\n",
    "arguments_path = \"data/captions_arguments.csv\"\n",
    "def write_to_disk(chunk):\n",
    "    with open(arguments_path, \"a\", encoding=\"utf-8\") as arguments_file:\n",
    "        chunk.to_csv(arguments_file, index=False)\n",
    "\n",
    "# Arguing lexixon parser\n",
    "parser = ArguingLexiconParser()\n"
   ]
  },
  {
   "cell_type": "code",
   "execution_count": null,
   "metadata": {},
   "outputs": [
    {
     "data": {
      "application/vnd.jupyter.widget-view+json": {
       "model_id": "bbd877813eba4fe1b5db68f79ebdb966",
       "version_major": 2,
       "version_minor": 0
      },
      "text/plain": [
       "HBox(children=(IntProgress(value=1, bar_style='info', max=1), HTML(value='')))"
      ]
     },
     "metadata": {},
     "output_type": "display_data"
    },
    {
     "name": "stdout",
     "output_type": "stream",
     "text": [
      "\n"
     ]
    }
   ],
   "source": [
    "for ix, transcripts in enumerate(tqdm(transcripts_reader)):\n",
    "    if ix <= 1183:\n",
    "        continue\n",
    "    arguments_frame = pd.DataFrame(columns=output_columns)\n",
    "    for ix, transcript in transcripts.iterrows():\n",
    "        content = str(transcript[\"content\"]).split(\"\\n\")\n",
    "        labels = []\n",
    "        arguments = []\n",
    "        argument_fragments = 0\n",
    "        for con in content:\n",
    "            doc = Doc(con)\n",
    "            matches = list(parser.get_arguing_matches(doc))\n",
    "            if len(matches):\n",
    "                argument_fragments += 1\n",
    "            lbls = []\n",
    "            args = []\n",
    "            for label, match in matches:\n",
    "                lbls.append(label)\n",
    "                args.append(match.group(0))\n",
    "            labels.append(\"\\t\".join(lbls))\n",
    "            arguments.append(\"\\t\".join(args))\n",
    "        argument_serie = pd.Series(data={\n",
    "            \"id\": transcript[\"id\"],\n",
    "            \"content\": transcript[\"content\"],\n",
    "            \"date\": transcript[\"date\"],\n",
    "            \"title\": transcript[\"title\"],\n",
    "            \"unknown\": transcript[\"unknown\"],\n",
    "            \"channel\": transcript[\"channel\"],\n",
    "            \"fragments\": len(content),\n",
    "            \"argument_fragments\": argument_fragments,\n",
    "            \"argument_labels\": \"\\n\".join(labels),\n",
    "            \"argument_content\": \"\\n\".join(arguments)\n",
    "        })\n",
    "\n",
    "        arguments_frame = arguments_frame.append(argument_serie, ignore_index=True)\n",
    "    write_to_disk(arguments_frame)"
   ]
  },
  {
   "cell_type": "code",
   "execution_count": null,
   "metadata": {},
   "outputs": [],
   "source": []
  }
 ],
 "metadata": {
  "kernelspec": {
   "display_name": "Python [conda env:ml]",
   "language": "python",
   "name": "conda-env-ml-py"
  },
  "language_info": {
   "codemirror_mode": {
    "name": "ipython",
    "version": 3
   },
   "file_extension": ".py",
   "mimetype": "text/x-python",
   "name": "python",
   "nbconvert_exporter": "python",
   "pygments_lexer": "ipython3",
   "version": "3.6.6"
  },
  "varInspector": {
   "cols": {
    "lenName": 16,
    "lenType": 16,
    "lenVar": 40
   },
   "kernels_config": {
    "python": {
     "delete_cmd_postfix": "",
     "delete_cmd_prefix": "del ",
     "library": "var_list.py",
     "varRefreshCmd": "print(var_dic_list())"
    },
    "r": {
     "delete_cmd_postfix": ") ",
     "delete_cmd_prefix": "rm(",
     "library": "var_list.r",
     "varRefreshCmd": "cat(var_dic_list()) "
    }
   },
   "types_to_exclude": [
    "module",
    "function",
    "builtin_function_or_method",
    "instance",
    "_Feature"
   ],
   "window_display": false
  }
 },
 "nbformat": 4,
 "nbformat_minor": 1
}
