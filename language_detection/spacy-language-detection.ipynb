{
 "cells": [
  {
   "cell_type": "code",
   "execution_count": null,
   "metadata": {},
   "outputs": [],
   "source": [
    "import pickle\n",
    "from collections import namedtuple\n",
    "from tqdm import tqdm\n",
    "\n",
    "import pandas as pd\n",
    "import spacy\n",
    "from spacy_cld import LanguageDetector\n"
   ]
  },
  {
   "cell_type": "code",
   "execution_count": null,
   "metadata": {
    "collapsed": true
   },
   "outputs": [],
   "source": [
    "nlp = spacy.load('en_core_web_sm')\n",
    "language_detector = LanguageDetector()\n",
    "nlp.add_pipe(language_detector)"
   ]
  },
  {
   "cell_type": "code",
   "execution_count": null,
   "metadata": {},
   "outputs": [],
   "source": [
    "# Util function to write lazy chunks back to disk\n",
    "output_columns = [\"id\", \"hash1\", \"hash2\", \"user\", \"user_pic\", \"channel_url\", \"channel_id\", \"comment\", \n",
    "                  \"depth\", \"timestamp\", \"language\"]\n",
    "comments_path = \"data/comments_sample_out.csv\"\n",
    "def write_to_disk(chunk):\n",
    "    with open(comments_path, \"a\", encoding=\"utf-8\") as file:\n",
    "        chunk.to_csv(file, index=False, header=False)\n",
    "\n",
    "# Lazy data reader into DataFrame\n",
    "transcripts_reader = pd.read_csv(\"data/comments_sample.csv\", chunksize=500, names=output_columns[:-1])\n"
   ]
  },
  {
   "cell_type": "code",
   "execution_count": null,
   "metadata": {},
   "outputs": [],
   "source": [
    "for ix, transcripts in enumerate(tqdm(transcripts_reader)):\n",
    "    languages = []\n",
    "    for ix, transcript in transcripts.iterrows():\n",
    "        content = str(transcript[7])\n",
    "        doc = nlp(content)\n",
    "        try:\n",
    "            language = doc._.languages[0]\n",
    "        except IndexError:\n",
    "            language = \"?\"\n",
    "        languages.append(language)\n",
    "    transcripts[\"language\"] = languages\n",
    "    write_to_disk(transcripts)"
   ]
  },
  {
   "cell_type": "code",
   "execution_count": null,
   "metadata": {
    "collapsed": true
   },
   "outputs": [],
   "source": []
  }
 ],
 "metadata": {
  "kernelspec": {
   "display_name": "Python 3",
   "language": "python",
   "name": "python3"
  },
  "language_info": {
   "codemirror_mode": {
    "name": "ipython",
    "version": 3
   },
   "file_extension": ".py",
   "mimetype": "text/x-python",
   "name": "python",
   "nbconvert_exporter": "python",
   "pygments_lexer": "ipython3",
   "version": "3.5.2"
  },
  "varInspector": {
   "cols": {
    "lenName": 16,
    "lenType": 16,
    "lenVar": 40
   },
   "kernels_config": {
    "python": {
     "delete_cmd_postfix": "",
     "delete_cmd_prefix": "del ",
     "library": "var_list.py",
     "varRefreshCmd": "print(var_dic_list())"
    },
    "r": {
     "delete_cmd_postfix": ") ",
     "delete_cmd_prefix": "rm(",
     "library": "var_list.r",
     "varRefreshCmd": "cat(var_dic_list()) "
    }
   },
   "types_to_exclude": [
    "module",
    "function",
    "builtin_function_or_method",
    "instance",
    "_Feature"
   ],
   "window_display": false
  }
 },
 "nbformat": 4,
 "nbformat_minor": 1
}
