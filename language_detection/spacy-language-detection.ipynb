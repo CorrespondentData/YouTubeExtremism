{
 "cells": [
  {
   "cell_type": "code",
   "execution_count": null,
   "metadata": {},
   "outputs": [],
   "source": [
    "import pickle\n",
    "from collections import namedtuple\n",
    "from tqdm import tqdm_notebook as tqdm\n",
    "\n",
    "import pandas as pd\n",
    "from pandas.parser import CParserError\n",
    "import spacy\n",
    "from spacy_cld import LanguageDetector\n"
   ]
  },
  {
   "cell_type": "code",
   "execution_count": null,
   "metadata": {},
   "outputs": [],
   "source": [
    "nlp = spacy.load('en_core_web_sm')\n",
    "language_detector = LanguageDetector()\n",
    "nlp.add_pipe(language_detector)"
   ]
  },
  {
   "cell_type": "code",
   "execution_count": null,
   "metadata": {},
   "outputs": [],
   "source": [
    "# Util function to write lazy chunks back to disk\n",
    "output_columns = [\"id\", \"hash1\", \"hash2\", \"user\", \"user_pic\", \"channel_url\", \"channel_id\", \"comment\", \n",
    "                  \"depth\", \"timestamp\", \"language\"]\n",
    "\n",
    "comments_path = \"data/comments_right_language.csv\"\n",
    "def write_to_disk(chunk):\n",
    "    with open(comments_path, \"a\", encoding=\"utf-8\") as file:\n",
    "        chunk.to_csv(file, index=False, header=False)\n",
    "\n",
    "def write_to_error(chunk):\n",
    "    with open(\"data/comments_language_broken.csv\", \"a\", encoding=\"utf-8\") as file:\n",
    "        chunk.to_csv(file, index=False, header=False)\n",
    "\n",
    "# Lazy data reader into DataFrame\n",
    "comments_reader = pd.read_csv(\"data/comments_right.csv\", chunksize=500, names=output_columns[:-1])\n",
    "# Reader to pick up where we ended\n",
    "completed_reader = pd.read_csv(\"data/comments_right_language.csv\", chunksize=500, names=output_columns)\n",
    "#fixed_reader = pd.read_csv(\"data/comments_language_fix.csv\", chunksize=500, names=output_columns)\n",
    "#broken_reader = pd.read_csv(\"data/comments_language_broken.csv\", chunksize=500, names=output_columns)"
   ]
  },
  {
   "cell_type": "code",
   "execution_count": null,
   "metadata": {},
   "outputs": [],
   "source": [
    "# Run this to move the transcripts_reader iterator to where we stopped last time\n",
    "for _ in tqdm(completed_reader):\n",
    "    next(comments_reader)"
   ]
  },
  {
   "cell_type": "code",
   "execution_count": null,
   "metadata": {},
   "outputs": [],
   "source": [
    "# Does the actual work. Detects languages and writes it to new column on disk\n",
    "for ix, comments in enumerate(tqdm(comments_reader)):\n",
    "    languages = []\n",
    "    for ix, comment in comments.iterrows():\n",
    "        content = str(comment[7])\n",
    "        doc = nlp(content)\n",
    "        try:\n",
    "            language = doc._.languages[0]\n",
    "        except IndexError:\n",
    "            language = \"?\"\n",
    "        languages.append(language)\n",
    "    comments[\"language\"] = languages\n",
    "    write_to_disk(comments)"
   ]
  },
  {
   "cell_type": "code",
   "execution_count": null,
   "metadata": {},
   "outputs": [],
   "source": [
    "# Iterates over completed and tries to find errors, writing them to the error file\n",
    "try:\n",
    "    for ix, chunk in enumerate(tqdm(completed_reader)):\n",
    "        next(comments_reader)\n",
    "except CParserError:\n",
    "    print(\"Error at {}\".format(ix))\n",
    "    write_to_error(next(comments_reader))"
   ]
  }
 ],
 "metadata": {
  "kernelspec": {
   "display_name": "Python [conda env:ml]",
   "language": "python",
   "name": "conda-env-ml-py"
  },
  "language_info": {
   "codemirror_mode": {
    "name": "ipython",
    "version": 3
   },
   "file_extension": ".py",
   "mimetype": "text/x-python",
   "name": "python",
   "nbconvert_exporter": "python",
   "pygments_lexer": "ipython3",
   "version": "3.6.6"
  },
  "varInspector": {
   "cols": {
    "lenName": 16,
    "lenType": 16,
    "lenVar": 40
   },
   "kernels_config": {
    "python": {
     "delete_cmd_postfix": "",
     "delete_cmd_prefix": "del ",
     "library": "var_list.py",
     "varRefreshCmd": "print(var_dic_list())"
    },
    "r": {
     "delete_cmd_postfix": ") ",
     "delete_cmd_prefix": "rm(",
     "library": "var_list.r",
     "varRefreshCmd": "cat(var_dic_list()) "
    }
   },
   "types_to_exclude": [
    "module",
    "function",
    "builtin_function_or_method",
    "instance",
    "_Feature"
   ],
   "window_display": false
  }
 },
 "nbformat": 4,
 "nbformat_minor": 1
}
