{
 "cells": [
  {
   "cell_type": "code",
   "execution_count": 3,
   "metadata": {},
   "outputs": [],
   "source": [
    "import pandas as pd\n",
    "import ast\n",
    "\n",
    "raw_captions = 'C:/hackathon/captions.csv'\n",
    "raw_videolist = 'C:/hackathon/videolists_lefty.csv'\n",
    "preprocessed_captions = 'C:/hackathon/left_captions.csv'\n",
   ]
  },
  {
   "cell_type": "markdown",
   "metadata": {},
   "source": [
    "### Text cleaning\n",
    "\n",
    "#### Input format:\n",
    "List to csv -> string representation of list saved and then read. Contains duplicates, sometimes within the same list. Then separated by newline (\\n)"
   ]
  },
  {
   "cell_type": "code",
   "execution_count": 4,
   "metadata": {},
   "outputs": [],
   "source": [
    "def clean_caption(caption_string):\n",
    "    caption = ast.literal_eval(caption_string) #list representation to actual list\n",
    "    caption = [newline for oldline in caption for newline in oldline.split('\\n') if newline != ' '] #split lines by newline,\n",
    "                #unnest the result and keep if line is not empty (in this case just a space)\n",
    "    result = []  #Initialise empty list to store non-duplicates in. Does not use set because lines can be identical,\n",
    "                #so the criterion is to only drop duplicates if they follow eachother\n",
    "    prevline = ''\n",
    "    for line in caption:\n",
    "        if line == prevline:\n",
    "            continue\n",
    "        result.append(line)\n",
    "        prevline = line\n",
    "    return '\\n'.join(result)"
   ]
  },
  {
   "cell_type": "code",
   "execution_count": 6,
   "metadata": {},
   "outputs": [],
   "source": [
    "df = pd.read_csv(raw_captions, names = ['yt_id','captions'])\n",
    "df['captions'] = df['captions'].apply(clean_caption)\n",
    "\n",
    "df_videolist = pd.read_csv(raw_videolist, names = ['yt_id','timestamp','title','channel_id','channel_name'])\n",
    "df = df.merge(df_videolist, how = 'left', on = 'yt_id')\n",
    "\n",
    "df.to_csv(preprocessed_captions,index=False)"
   ]
  }
 ],
 "metadata": {
  "kernelspec": {
   "display_name": "Python 3",
   "language": "python",
   "name": "python3"
  },
  "language_info": {
   "codemirror_mode": {
    "name": "ipython",
    "version": 3
   },
   "file_extension": ".py",
   "mimetype": "text/x-python",
   "name": "python",
   "nbconvert_exporter": "python",
   "pygments_lexer": "ipython3",
   "version": "3.6.3"
  }
 },
 "nbformat": 4,
 "nbformat_minor": 2
}
